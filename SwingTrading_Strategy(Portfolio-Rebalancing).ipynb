{
 "cells": [
  {
   "cell_type": "markdown",
   "metadata": {},
   "source": [
    "# Strategy for monthly return(short-term investment)"
   ]
  },
  {
   "cell_type": "markdown",
   "metadata": {},
   "source": [
    "Objective: We will code a strategy and then compare the strategy return with index return. For comparision we will code some KPIs(key performance indicators) to measure risk and return when compared with index price."
   ]
  },
  {
   "cell_type": "code",
   "execution_count": 1,
   "metadata": {},
   "outputs": [],
   "source": [
    "import numpy as np\n",
    "import pandas as pd\n",
    "import yfinance as yf\n",
    "import datetime as dt\n",
    "import copy\n",
    "import matplotlib.pyplot as plt"
   ]
  },
  {
   "cell_type": "code",
   "execution_count": 2,
   "metadata": {},
   "outputs": [],
   "source": [
    "pd.set_option('display.width', 500)\n",
    "pd.set_option('display.max_columns', 30)\n",
    "pd.set_option('display.max_rows', 200)\n",
    "pd.set_option('display.min_rows', 100)"
   ]
  },
  {
   "cell_type": "code",
   "execution_count": 3,
   "metadata": {},
   "outputs": [],
   "source": [
    "# DJI constituent stocks\n",
    "tickers = [\"MMM\", \"AXP\", \"T\", \"BA\", \"CAT\", \"CVX\", \"CSCO\", \"KO\", \"XOM\", \"GE\", \"GS\", \"HD\",\n",
    "           \"IBM\", \"INTC\", \"JNJ\", \"JPM\", \"MCD\", \"MRK\", \"MSFT\", \"NKE\", \"PFE\", \"PG\", \"TRV\",\n",
    "           \"UTX\", \"UNH\", \"VZ\", \"V\", \"WMT\", \"DIS\"]"
   ]
  },
  {
   "cell_type": "code",
   "execution_count": 4,
   "metadata": {},
   "outputs": [],
   "source": [
    "# directory with open, high, low, close(ohlc) value for each stock\n",
    "ohlc_mon = {}  "
   ]
  },
  {
   "cell_type": "code",
   "execution_count": 5,
   "metadata": {},
   "outputs": [],
   "source": [
    "# start and end date of historical data (monthly) to be extracted \n",
    "start = dt.datetime.today() - dt.timedelta(3650)\n",
    "end = dt.datetime.today()"
   ]
  },
  {
   "cell_type": "code",
   "execution_count": null,
   "metadata": {},
   "outputs": [],
   "source": [
    "# looping over tickers and creating a dataframe\n",
    "for ticker in tickers:\n",
    "    ohlc_mon[ticker] = yf.download(ticker, start, end, interval='1mo')\n",
    "    ohlc_mon[ticker].dropna(inplace=True, how=\"all\")"
   ]
  },
  {
   "cell_type": "code",
   "execution_count": 7,
   "metadata": {},
   "outputs": [],
   "source": [
    "# redefine tickers variable after removing any tickers with corrupted data\n",
    "tickers = ohlc_mon.keys()"
   ]
  },
  {
   "cell_type": "code",
   "execution_count": 8,
   "metadata": {},
   "outputs": [],
   "source": [
    "# function to calculate the Cumulative Annual Growth Rate of a trading strategy\n",
    "def CAGR(DF):\n",
    "    df = DF.copy()\n",
    "    df[\"cum_return\"] = (1 + df[\"mon_ret\"]).cumprod()\n",
    "    n = len(df) / 12\n",
    "    CAGR = (df[\"cum_return\"].tolist()[-1]) ** (1 / n) - 1\n",
    "    return CAGR"
   ]
  },
  {
   "cell_type": "code",
   "execution_count": 9,
   "metadata": {},
   "outputs": [],
   "source": [
    "# function to calculate annualized volatility of a trading strategy\n",
    "def volatility(DF):\n",
    "    df = DF.copy()\n",
    "    vol: object = df[\"mon_ret\"].std() * np.sqrt(12)\n",
    "    return vol"
   ]
  },
  {
   "cell_type": "code",
   "execution_count": 10,
   "metadata": {},
   "outputs": [],
   "source": [
    "# function to calculate sharpe ratio ; rf is the risk free rate\n",
    "def sharpe(DF, rf):\n",
    "    df = DF.copy()\n",
    "    sr = (CAGR(df) - rf) / volatility(df)\n",
    "    return sr"
   ]
  },
  {
   "cell_type": "code",
   "execution_count": 11,
   "metadata": {},
   "outputs": [],
   "source": [
    "# function to calculate max drawdown\n",
    "def max_dd(DF):\n",
    "    df = DF.copy()\n",
    "    df[\"cum_return\"] = (1 + df[\"mon_ret\"]).cumprod()\n",
    "    df[\"cum_roll_max\"] = df[\"cum_return\"].cummax()\n",
    "    df[\"drawdown\"] = df[\"cum_roll_max\"] - df[\"cum_return\"]\n",
    "    df[\"drawdown_pct\"] = df[\"drawdown\"] / df[\"cum_roll_max\"]\n",
    "    max_dd = df[\"drawdown_pct\"].max()\n",
    "    return max_dd"
   ]
  },
  {
   "cell_type": "code",
   "execution_count": 12,
   "metadata": {},
   "outputs": [],
   "source": [
    "# keeping the data safe\n",
    "ohlc_dict = copy.deepcopy(ohlc_mon)"
   ]
  },
  {
   "cell_type": "code",
   "execution_count": null,
   "metadata": {},
   "outputs": [],
   "source": [
    "# calculating monthly return for each stock and consolidating return info by stock in a separate dataframe\n",
    "return_df = pd.DataFrame()\n",
    "for ticker in tickers:\n",
    "    print(\"calculating monthly return for \", ticker)\n",
    "    ohlc_dict[ticker][\"mon_ret\"] = ohlc_dict[ticker][\"Adj Close\"].pct_change()\n",
    "    return_df[ticker] = ohlc_dict[ticker][\"mon_ret\"]"
   ]
  },
  {
   "cell_type": "code",
   "execution_count": 14,
   "metadata": {},
   "outputs": [],
   "source": [
    "# function to calculate portfolio return iteratively\n",
    "def pflio(DF, m, x):\n",
    "    \"\"\"Returns cumulative portfolio return\n",
    "    DF = dataframe with monthly return info for all stocks\n",
    "    m = number of stock in the portfolio\n",
    "    x = number of underperforming stocks to be removed from portfolio monthly\"\"\"\n",
    "    df = DF.copy()\n",
    "    portfolio = []\n",
    "    monthly_ret = [0]\n",
    "    for i in range(1, len(df)):\n",
    "        if len(portfolio) > 0:\n",
    "            monthly_ret.append(df[portfolio].iloc[i, :].mean())\n",
    "            bad_stocks = df[portfolio].iloc[i, :].sort_values(ascending=True)[:x].index.values.tolist()\n",
    "            portfolio = [t for t in portfolio if t not in bad_stocks]\n",
    "        fill = m - len(portfolio)\n",
    "#        new_picks = df[[t for t in tickers if t not in portfolio]].iloc[i, :].sort_values(ascending=False)\\\n",
    "#                        [:fill].index.values.tolist() # for no repetition of stocks in portfolio\n",
    "        new_picks = df.iloc[i, :].sort_values(ascending=False)[:fill].index.values.tolist()\n",
    "        portfolio = portfolio + new_picks\n",
    "    monthly_ret_df = pd.DataFrame(np.array(monthly_ret), columns=[\"mon_ret\"])\n",
    "    return monthly_ret_df"
   ]
  },
  {
   "cell_type": "code",
   "execution_count": 15,
   "metadata": {},
   "outputs": [
    {
     "name": "stdout",
     "output_type": "stream",
     "text": [
      "0.14060505590973404\n",
      "0.9205807891437143\n",
      "0.21917603206768513\n"
     ]
    }
   ],
   "source": [
    "# calculating overall strategy's KPIs\n",
    "print(CAGR(pflio(return_df, 6, 3)))\n",
    "print(sharpe(pflio(return_df, 6, 3), 0.025))\n",
    "print(max_dd(pflio(return_df, 6, 3)))"
   ]
  },
  {
   "cell_type": "code",
   "execution_count": 16,
   "metadata": {},
   "outputs": [
    {
     "name": "stdout",
     "output_type": "stream",
     "text": [
      "[*********************100%***********************]  1 of 1 completed\n",
      "0.0964385575779314\n",
      "0.5465699635477885\n",
      "0.23201266165063414\n"
     ]
    }
   ],
   "source": [
    "# calculating KPIs for Index buy and hold strategy over the same period\n",
    "DJI = yf.download(\"^DJI\", start, end, interval='1mo')\n",
    "DJI[\"mon_ret\"] = DJI[\"Adj Close\"].pct_change()\n",
    "print(CAGR(DJI))\n",
    "print(sharpe(DJI, 0.025))\n",
    "print(max_dd(DJI))"
   ]
  },
  {
   "cell_type": "code",
   "execution_count": 17,
   "metadata": {},
   "outputs": [
    {
     "data": {
      "text/plain": [
       "<matplotlib.legend.Legend at 0x25a3f6de848>"
      ]
     },
     "execution_count": 17,
     "metadata": {},
     "output_type": "execute_result"
    },
    {
     "data": {
      "image/png": "[encoded data removed]",
      "text/plain": [
       "<Figure size 432x288 with 1 Axes>"
      ]
     },
     "metadata": {
      "needs_background": "light"
     },
     "output_type": "display_data"
    }
   ],
   "source": [
    "# visualization\n",
    "fig, ax = plt.subplots()\n",
    "plt.plot((1 + pflio(return_df, 6, 3)).cumprod())\n",
    "plt.plot((1 + DJI[\"mon_ret\"][2:].reset_index(drop=True)).cumprod())\n",
    "plt.title(\"Index Return vs Strategy Return\")\n",
    "plt.ylabel(\"cumulative return\")\n",
    "plt.xlabel(\"months\")\n",
    "ax.legend([\"Strategy Return\", \"Index Return\"])"
   ]
  }
 ],
 "metadata": {
  "kernelspec": {
   "display_name": "Python 3",
   "language": "python",
   "name": "python3"
  },
  "language_info": {
   "codemirror_mode": {
    "name": "ipython",
    "version": 3
   },
   "file_extension": ".py",
   "mimetype": "text/x-python",
   "name": "python",
   "nbconvert_exporter": "python",
   "pygments_lexer": "ipython3",
   "version": "3.7.4"
  }
 },
 "nbformat": 4,
 "nbformat_minor": 2
}
